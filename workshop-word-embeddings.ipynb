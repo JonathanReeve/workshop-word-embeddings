{
 "cells": [
  {
   "cell_type": "code",
   "execution_count": 2,
   "metadata": {},
   "outputs": [],
   "source": [
    "import pandas as pd\n",
    "import spacy\n",
    "from glob import glob\n",
    "# import word2vec\n",
    "# import gensim\n",
    "# from gensim.test.utils import common_texts\n",
    "# from gensim.models import Word2Vec\n",
    "from sklearn.manifold import TSNE\n",
    "from sklearn.decomposition import PCA\n",
    "from matplotlib import pyplot as plt\n",
    "import json\n",
    "from mpl_toolkits.mplot3d import Axes3D, proj3d\n",
    "from numpy import dot\n",
    "from numpy.linalg import norm\n",
    "%matplotlib notebook\n",
    "plt.rcParams[\"figure.figsize\"] = (12,8)"
   ]
  },
  {
   "cell_type": "code",
   "execution_count": 5,
   "metadata": {},
   "outputs": [],
   "source": [
    "nlp = spacy.load('en_core_web_lg')"
   ]
  },
  {
   "cell_type": "markdown",
   "metadata": {},
   "source": [
    "# Advanced Topics in Word Embeddings\n",
    "\n",
    "## NYCDH Week, February 2019\n",
    "\n",
    "Here are some more resources for getting started: \n",
    "\n",
    "- [A classic primer on Word Embeddings, from Google (uses TensorFlow)](https://www.tensorflow.org/tutorials/representation/word2vec)\n",
    "- [Another word2vec tutorial using TensorFlow](https://adventuresinmachinelearning.com/word2vec-tutorial-tensorflow/)\n",
    "- [The original documentation of word2vec](https://code.google.com/archive/p/word2vec/)\n",
    "- [Spacy Docs on vector similarity](https://spacy.io/usage/vectors-similarity)\n",
    "- [Gensim Docs](https://radimrehurek.com/gensim/models/keyedvectors.html)\n",
    "\n",
    "\n",
    "For getting started in NLP more generally, here are two notebooks of mine: \n",
    "\n",
    "- [Introduction to Text Analysis](https://github.com/JonathanReeve/dataviz-workshop-2017)\n",
    "- [Advanced Text Analysis Workshop](https://github.com/JonathanReeve/advanced-text-analysis-workshop-2017)\n",
    "\n",
    "## An Example of Document Vectors: Project Gutenberg\n",
    "\n",
    "![First 30 Books of Project Gutenberg](example-gut.png)"
   ]
  },
  {
   "cell_type": "markdown",
   "metadata": {},
   "source": [
    "# Word Vector Similarity"
   ]
  },
  {
   "cell_type": "code",
   "execution_count": 6,
   "metadata": {},
   "outputs": [],
   "source": [
    "africanSwallow = nlp('African swallow')\n",
    "europeanSwallow = nlp('European swallow')\n",
    "coconut = nlp('coconut')"
   ]
  },
  {
   "cell_type": "code",
   "execution_count": 7,
   "metadata": {},
   "outputs": [
    {
     "data": {
      "text/plain": [
       "0.8596378859289445"
      ]
     },
     "execution_count": 7,
     "metadata": {},
     "output_type": "execute_result"
    }
   ],
   "source": [
    "africanSwallow.similarity(europeanSwallow)"
   ]
  },
  {
   "cell_type": "code",
   "execution_count": 8,
   "metadata": {},
   "outputs": [
    {
     "data": {
      "text/plain": [
       "0.2901231866716321"
      ]
     },
     "execution_count": 8,
     "metadata": {},
     "output_type": "execute_result"
    }
   ],
   "source": [
    "africanSwallow.similarity(coconut)"
   ]
  },
  {
   "cell_type": "code",
   "execution_count": 9,
   "metadata": {},
   "outputs": [],
   "source": [
    "def similarity(vecA, vecB):\n",
    "    return dot(vecA, vecB) / (norm(vecA, ord=2) * norm(vecB, ord=2))"
   ]
  },
  {
   "cell_type": "code",
   "execution_count": 10,
   "metadata": {},
   "outputs": [
    {
     "data": {
      "text/plain": [
       "0.8596379"
      ]
     },
     "execution_count": 10,
     "metadata": {},
     "output_type": "execute_result"
    }
   ],
   "source": [
    "similarity(africanSwallow.vector, europeanSwallow.vector)"
   ]
  },
  {
   "cell_type": "code",
   "execution_count": 11,
   "metadata": {},
   "outputs": [],
   "source": [
    "swallowArithmetic = (africanSwallow.vector - europeanSwallow.vector)"
   ]
  },
  {
   "cell_type": "code",
   "execution_count": 12,
   "metadata": {},
   "outputs": [],
   "source": [
    "def mostSimilar(vec):\n",
    "    highestSimilarities = [0]\n",
    "    highestWords = [\"\"]\n",
    "    for w in nlp.vocab:\n",
    "        sim = similarity(vec, w.vector)\n",
    "        if sim > highestSimilarities[-1]:\n",
    "            highestSimilarities.append(sim)\n",
    "            highestWords.append(w.text.lower())\n",
    "    return list(zip(highestWords, highestSimilarities))[-10:]"
   ]
  },
  {
   "cell_type": "code",
   "execution_count": null,
   "metadata": {},
   "outputs": [],
   "source": []
  },
  {
   "cell_type": "markdown",
   "metadata": {},
   "source": [
    "# Analogies (Linear Algebra)"
   ]
  },
  {
   "cell_type": "code",
   "execution_count": 39,
   "metadata": {},
   "outputs": [
    {
     "name": "stderr",
     "output_type": "stream",
     "text": [
      "/nix/store/v43sbi2f840jnv334m5k2dffbzyq73hs-python3-3.7.2-env/lib/python3.7/site-packages/ipykernel_launcher.py:2: RuntimeWarning: invalid value encountered in float_scalars\n",
      "  \n"
     ]
    },
    {
     "data": {
      "text/plain": [
       "[('croup', 0.06349668),\n",
       " ('deceased', 0.11223719),\n",
       " ('jambalaya', 0.14376064),\n",
       " ('cobra', 0.17929554),\n",
       " ('addax', 0.18801448),\n",
       " ('tanzania', 0.25093195),\n",
       " ('rhinos', 0.3014531),\n",
       " ('lioness', 0.34080425),\n",
       " ('giraffe', 0.37119308),\n",
       " ('african', 0.5032688)]"
      ]
     },
     "execution_count": 39,
     "metadata": {},
     "output_type": "execute_result"
    }
   ],
   "source": [
    "mostSimilar(swallowArithmetic)"
   ]
  },
  {
   "cell_type": "code",
   "execution_count": 41,
   "metadata": {},
   "outputs": [
    {
     "name": "stderr",
     "output_type": "stream",
     "text": [
      "/nix/store/v43sbi2f840jnv334m5k2dffbzyq73hs-python3-3.7.2-env/lib/python3.7/site-packages/ipykernel_launcher.py:2: RuntimeWarning: invalid value encountered in float_scalars\n",
      "  \n"
     ]
    },
    {
     "data": {
      "text/plain": [
       "[('jambalaya', 0.24809697),\n",
       " ('tawny', 0.2579049),\n",
       " ('concentrate', 0.35225457),\n",
       " ('lasagna', 0.36302277),\n",
       " ('puddings', 0.4095627),\n",
       " ('peel', 0.47492552),\n",
       " ('eucalyptus', 0.4899935),\n",
       " ('carob', 0.57747585),\n",
       " ('peanut', 0.6609557),\n",
       " ('coconut', 1.0000001)]"
      ]
     },
     "execution_count": 41,
     "metadata": {},
     "output_type": "execute_result"
    }
   ],
   "source": [
    "mostSimilar(coconut.vector)"
   ]
  },
  {
   "cell_type": "code",
   "execution_count": 42,
   "metadata": {},
   "outputs": [],
   "source": [
    "king, queen, woman, man = [nlp(w).vector for w in ['king', 'queen', 'woman', 'man']]"
   ]
  },
  {
   "cell_type": "code",
   "execution_count": 65,
   "metadata": {},
   "outputs": [],
   "source": [
    "answer = king - man + woman"
   ]
  },
  {
   "cell_type": "code",
   "execution_count": 66,
   "metadata": {},
   "outputs": [
    {
     "name": "stderr",
     "output_type": "stream",
     "text": [
      "/nix/store/v43sbi2f840jnv334m5k2dffbzyq73hs-python3-3.7.2-env/lib/python3.7/site-packages/ipykernel_launcher.py:2: RuntimeWarning: invalid value encountered in float_scalars\n",
      "  \n"
     ]
    },
    {
     "data": {
      "text/plain": [
       "[('gorey', 0.03473952),\n",
       " ('deceased', 0.2673984),\n",
       " ('peasant', 0.32680285),\n",
       " ('guardian', 0.3285926),\n",
       " ('comforter', 0.346274),\n",
       " ('virgins', 0.3561441),\n",
       " ('kissing', 0.3649173),\n",
       " ('woman', 0.5150813),\n",
       " ('kingdom', 0.55209804),\n",
       " ('king', 0.802426)]"
      ]
     },
     "execution_count": 66,
     "metadata": {},
     "output_type": "execute_result"
    }
   ],
   "source": [
    "mostSimilar(answer)"
   ]
  },
  {
   "cell_type": "code",
   "execution_count": 69,
   "metadata": {},
   "outputs": [
    {
     "name": "stderr",
     "output_type": "stream",
     "text": [
      "/nix/store/v43sbi2f840jnv334m5k2dffbzyq73hs-python3-3.7.2-env/lib/python3.7/site-packages/ipykernel_launcher.py:2: RuntimeWarning: invalid value encountered in float_scalars\n",
      "  \n"
     ]
    },
    {
     "data": {
      "text/plain": [
       "[('orlando', 0.48517892),\n",
       " ('dresden', 0.51174784),\n",
       " ('warsaw', 0.5628617),\n",
       " ('stuttgart', 0.5869507),\n",
       " ('vienna', 0.6086052),\n",
       " ('prague', 0.6289497),\n",
       " ('munich', 0.6677783),\n",
       " ('paris', 0.6961337),\n",
       " ('berlin', 0.75474036),\n",
       " ('germany', 0.8027713)]"
      ]
     },
     "execution_count": 69,
     "metadata": {},
     "output_type": "execute_result"
    }
   ],
   "source": [
    "paris, france, germany = [nlp(w).vector for w in ['Paris', 'France', 'Germany']]\n",
    "answer = paris - france + germany\n",
    "mostSimilar(answer)"
   ]
  },
  {
   "cell_type": "markdown",
   "metadata": {},
   "source": [
    "# Pride and Prejudice"
   ]
  },
  {
   "cell_type": "code",
   "execution_count": 13,
   "metadata": {},
   "outputs": [],
   "source": [
    "pride = open('pride.txt').read()"
   ]
  },
  {
   "cell_type": "code",
   "execution_count": 14,
   "metadata": {},
   "outputs": [],
   "source": [
    "prideDoc = nlp(pride)"
   ]
  },
  {
   "cell_type": "code",
   "execution_count": 15,
   "metadata": {},
   "outputs": [],
   "source": [
    "prideNouns = [w for w in prideDoc if w.pos_.startswith('N')][:40]\n",
    "prideNounLabels = [w.lemma_ for w in prideNouns]"
   ]
  },
  {
   "cell_type": "code",
   "execution_count": 16,
   "metadata": {},
   "outputs": [],
   "source": [
    "prideNounVecs = [w.vector for w in prideNouns]"
   ]
  },
  {
   "cell_type": "code",
   "execution_count": 17,
   "metadata": {},
   "outputs": [],
   "source": [
    "reduced = PCA(n_components=3).fit_transform(prideNounVecs)"
   ]
  },
  {
   "cell_type": "code",
   "execution_count": 18,
   "metadata": {},
   "outputs": [],
   "source": [
    "prideDF = pd.DataFrame(reduced)"
   ]
  },
  {
   "cell_type": "code",
   "execution_count": 19,
   "metadata": {},
   "outputs": [],
   "source": [
    "%matplotlib notebook\n",
    "plt.rcParams[\"figure.figsize\"] = (10,8)\n",
    "\n",
    "def plotResults3D(df, labels): \n",
    "    fig = plt.figure()\n",
    "    ax = fig.add_subplot(111, projection='3d')\n",
    "    ax.scatter(df[0], df[1], df[2], marker='o')\n",
    "    for i, label in enumerate(labels):\n",
    "        ax.text(df.loc[i][0], df.loc[i][1], df.loc[i][2], label)"
   ]
  },
  {
   "cell_type": "code",
   "execution_count": 60,
   "metadata": {
    "scrolled": false
   },
   "outputs": [
    {
     "data": {
      "application/javascript": [
       "/* Put everything inside the global mpl namespace */\n",
       "window.mpl = {};\n",
       "\n",
       "\n",
       "mpl.get_websocket_type = function() {\n",
       "    if (typeof(WebSocket) !== 'undefined') {\n",
       "        return WebSocket;\n",
       "    } else if (typeof(MozWebSocket) !== 'undefined') {\n",
       "        return MozWebSocket;\n",
       "    } else {\n",
       "        alert('Your browser does not have WebSocket support.' +\n",
       "              'Please try Chrome, Safari or Firefox ≥ 6. ' +\n",
       "              'Firefox 4 and 5 are also supported but you ' +\n",
       "              'have to enable WebSockets in about:config.');\n",
       "    };\n",
       "}\n",
       "\n",
       "mpl.figure = function(figure_id, websocket, ondownload, parent_element) {\n",
       "    this.id = figure_id;\n",
       "\n",
       "    this.ws = websocket;\n",
       "\n",
       "    this.supports_binary = (this.ws.binaryType != undefined);\n",
       "\n",
       "    if (!this.supports_binary) {\n",
       "        var warnings = document.getElementById(\"mpl-warnings\");\n",
       "        if (warnings) {\n",
       "            warnings.style.display = 'block';\n",
       "            warnings.textContent = (\n",
       "                \"This browser does not support binary websocket messages. \" +\n",
       "                    \"Performance may be slow.\");\n",
       "        }\n",
       "    }\n",
       "\n",
       "    this.imageObj = new Image();\n",
       "\n",
       "    this.context = undefined;\n",
       "    this.message = undefined;\n",
       "    this.canvas = undefined;\n",
       "    this.rubberband_canvas = undefined;\n",
       "    this.rubberband_context = undefined;\n",
       "    this.format_dropdown = undefined;\n",
       "\n",
       "    this.image_mode = 'full';\n",
       "\n",
       "    this.root = $('<div/>');\n",
       "    this._root_extra_style(this.root)\n",
       "    this.root.attr('style', 'display: inline-block');\n",
       "\n",
       "    $(parent_element).append(this.root);\n",
       "\n",
       "    this._init_header(this);\n",
       "    this._init_canvas(this);\n",
       "    this._init_toolbar(this);\n",
       "\n",
       "    var fig = this;\n",
       "\n",
       "    this.waiting = false;\n",
       "\n",
       "    this.ws.onopen =  function () {\n",
       "            fig.send_message(\"supports_binary\", {value: fig.supports_binary});\n",
       "            fig.send_message(\"send_image_mode\", {});\n",
       "            if (mpl.ratio != 1) {\n",
       "                fig.send_message(\"set_dpi_ratio\", {'dpi_ratio': mpl.ratio});\n",
       "            }\n",
       "            fig.send_message(\"refresh\", {});\n",
       "        }\n",
       "\n",
       "    this.imageObj.onload = function() {\n",
       "            if (fig.image_mode == 'full') {\n",
       "                // Full images could contain transparency (where diff images\n",
       "                // almost always do), so we need to clear the canvas so that\n",
       "                // there is no ghosting.\n",
       "                fig.context.clearRect(0, 0, fig.canvas.width, fig.canvas.height);\n",
       "            }\n",
       "            fig.context.drawImage(fig.imageObj, 0, 0);\n",
       "        };\n",
       "\n",
       "    this.imageObj.onunload = function() {\n",
       "        fig.ws.close();\n",
       "    }\n",
       "\n",
       "    this.ws.onmessage = this._make_on_message_function(this);\n",
       "\n",
       "    this.ondownload = ondownload;\n",
       "}\n",
       "\n",
       "mpl.figure.prototype._init_header = function() {\n",
       "    var titlebar = $(\n",
       "        '<div class=\"ui-dialog-titlebar ui-widget-header ui-corner-all ' +\n",
       "        'ui-helper-clearfix\"/>');\n",
       "    var titletext = $(\n",
       "        '<div class=\"ui-dialog-title\" style=\"width: 100%; ' +\n",
       "        'text-align: center; padding: 3px;\"/>');\n",
       "    titlebar.append(titletext)\n",
       "    this.root.append(titlebar);\n",
       "    this.header = titletext[0];\n",
       "}\n",
       "\n",
       "\n",
       "\n",
       "mpl.figure.prototype._canvas_extra_style = function(canvas_div) {\n",
       "\n",
       "}\n",
       "\n",
       "\n",
       "mpl.figure.prototype._root_extra_style = function(canvas_div) {\n",
       "\n",
       "}\n",
       "\n",
       "mpl.figure.prototype._init_canvas = function() {\n",
       "    var fig = this;\n",
       "\n",
       "    var canvas_div = $('<div/>');\n",
       "\n",
       "    canvas_div.attr('style', 'position: relative; clear: both; outline: 0');\n",
       "\n",
       "    function canvas_keyboard_event(event) {\n",
       "        return fig.key_event(event, event['data']);\n",
       "    }\n",
       "\n",
       "    canvas_div.keydown('key_press', canvas_keyboard_event);\n",
       "    canvas_div.keyup('key_release', canvas_keyboard_event);\n",
       "    this.canvas_div = canvas_div\n",
       "    this._canvas_extra_style(canvas_div)\n",
       "    this.root.append(canvas_div);\n",
       "\n",
       "    var canvas = $('<canvas/>');\n",
       "    canvas.addClass('mpl-canvas');\n",
       "    canvas.attr('style', \"left: 0; top: 0; z-index: 0; outline: 0\")\n",
       "\n",
       "    this.canvas = canvas[0];\n",
       "    this.context = canvas[0].getContext(\"2d\");\n",
       "\n",
       "    var backingStore = this.context.backingStorePixelRatio ||\n",
       "\tthis.context.webkitBackingStorePixelRatio ||\n",
       "\tthis.context.mozBackingStorePixelRatio ||\n",
       "\tthis.context.msBackingStorePixelRatio ||\n",
       "\tthis.context.oBackingStorePixelRatio ||\n",
       "\tthis.context.backingStorePixelRatio || 1;\n",
       "\n",
       "    mpl.ratio = (window.devicePixelRatio || 1) / backingStore;\n",
       "\n",
       "    var rubberband = $('<canvas/>');\n",
       "    rubberband.attr('style', \"position: absolute; left: 0; top: 0; z-index: 1;\")\n",
       "\n",
       "    var pass_mouse_events = true;\n",
       "\n",
       "    canvas_div.resizable({\n",
       "        start: function(event, ui) {\n",
       "            pass_mouse_events = false;\n",
       "        },\n",
       "        resize: function(event, ui) {\n",
       "            fig.request_resize(ui.size.width, ui.size.height);\n",
       "        },\n",
       "        stop: function(event, ui) {\n",
       "            pass_mouse_events = true;\n",
       "            fig.request_resize(ui.size.width, ui.size.height);\n",
       "        },\n",
       "    });\n",
       "\n",
       "    function mouse_event_fn(event) {\n",
       "        if (pass_mouse_events)\n",
       "            return fig.mouse_event(event, event['data']);\n",
       "    }\n",
       "\n",
       "    rubberband.mousedown('button_press', mouse_event_fn);\n",
       "    rubberband.mouseup('button_release', mouse_event_fn);\n",
       "    // Throttle sequential mouse events to 1 every 20ms.\n",
       "    rubberband.mousemove('motion_notify', mouse_event_fn);\n",
       "\n",
       "    rubberband.mouseenter('figure_enter', mouse_event_fn);\n",
       "    rubberband.mouseleave('figure_leave', mouse_event_fn);\n",
       "\n",
       "    canvas_div.on(\"wheel\", function (event) {\n",
       "        event = event.originalEvent;\n",
       "        event['data'] = 'scroll'\n",
       "        if (event.deltaY < 0) {\n",
       "            event.step = 1;\n",
       "        } else {\n",
       "            event.step = -1;\n",
       "        }\n",
       "        mouse_event_fn(event);\n",
       "    });\n",
       "\n",
       "    canvas_div.append(canvas);\n",
       "    canvas_div.append(rubberband);\n",
       "\n",
       "    this.rubberband = rubberband;\n",
       "    this.rubberband_canvas = rubberband[0];\n",
       "    this.rubberband_context = rubberband[0].getContext(\"2d\");\n",
       "    this.rubberband_context.strokeStyle = \"#000000\";\n",
       "\n",
       "    this._resize_canvas = function(width, height) {\n",
       "        // Keep the size of the canvas, canvas container, and rubber band\n",
       "        // canvas in synch.\n",
       "        canvas_div.css('width', width)\n",
       "        canvas_div.css('height', height)\n",
       "\n",
       "        canvas.attr('width', width * mpl.ratio);\n",
       "        canvas.attr('height', height * mpl.ratio);\n",
       "        canvas.attr('style', 'width: ' + width + 'px; height: ' + height + 'px;');\n",
       "\n",
       "        rubberband.attr('width', width);\n",
       "        rubberband.attr('height', height);\n",
       "    }\n",
       "\n",
       "    // Set the figure to an initial 600x600px, this will subsequently be updated\n",
       "    // upon first draw.\n",
       "    this._resize_canvas(600, 600);\n",
       "\n",
       "    // Disable right mouse context menu.\n",
       "    $(this.rubberband_canvas).bind(\"contextmenu\",function(e){\n",
       "        return false;\n",
       "    });\n",
       "\n",
       "    function set_focus () {\n",
       "        canvas.focus();\n",
       "        canvas_div.focus();\n",
       "    }\n",
       "\n",
       "    window.setTimeout(set_focus, 100);\n",
       "}\n",
       "\n",
       "mpl.figure.prototype._init_toolbar = function() {\n",
       "    var fig = this;\n",
       "\n",
       "    var nav_element = $('<div/>')\n",
       "    nav_element.attr('style', 'width: 100%');\n",
       "    this.root.append(nav_element);\n",
       "\n",
       "    // Define a callback function for later on.\n",
       "    function toolbar_event(event) {\n",
       "        return fig.toolbar_button_onclick(event['data']);\n",
       "    }\n",
       "    function toolbar_mouse_event(event) {\n",
       "        return fig.toolbar_button_onmouseover(event['data']);\n",
       "    }\n",
       "\n",
       "    for(var toolbar_ind in mpl.toolbar_items) {\n",
       "        var name = mpl.toolbar_items[toolbar_ind][0];\n",
       "        var tooltip = mpl.toolbar_items[toolbar_ind][1];\n",
       "        var image = mpl.toolbar_items[toolbar_ind][2];\n",
       "        var method_name = mpl.toolbar_items[toolbar_ind][3];\n",
       "\n",
       "        if (!name) {\n",
       "            // put a spacer in here.\n",
       "            continue;\n",
       "        }\n",
       "        var button = $('<button/>');\n",
       "        button.addClass('ui-button ui-widget ui-state-default ui-corner-all ' +\n",
       "                        'ui-button-icon-only');\n",
       "        button.attr('role', 'button');\n",
       "        button.attr('aria-disabled', 'false');\n",
       "        button.click(method_name, toolbar_event);\n",
       "        button.mouseover(tooltip, toolbar_mouse_event);\n",
       "\n",
       "        var icon_img = $('<span/>');\n",
       "        icon_img.addClass('ui-button-icon-primary ui-icon');\n",
       "        icon_img.addClass(image);\n",
       "        icon_img.addClass('ui-corner-all');\n",
       "\n",
       "        var tooltip_span = $('<span/>');\n",
       "        tooltip_span.addClass('ui-button-text');\n",
       "        tooltip_span.html(tooltip);\n",
       "\n",
       "        button.append(icon_img);\n",
       "        button.append(tooltip_span);\n",
       "\n",
       "        nav_element.append(button);\n",
       "    }\n",
       "\n",
       "    var fmt_picker_span = $('<span/>');\n",
       "\n",
       "    var fmt_picker = $('<select/>');\n",
       "    fmt_picker.addClass('mpl-toolbar-option ui-widget ui-widget-content');\n",
       "    fmt_picker_span.append(fmt_picker);\n",
       "    nav_element.append(fmt_picker_span);\n",
       "    this.format_dropdown = fmt_picker[0];\n",
       "\n",
       "    for (var ind in mpl.extensions) {\n",
       "        var fmt = mpl.extensions[ind];\n",
       "        var option = $(\n",
       "            '<option/>', {selected: fmt === mpl.default_extension}).html(fmt);\n",
       "        fmt_picker.append(option)\n",
       "    }\n",
       "\n",
       "    // Add hover states to the ui-buttons\n",
       "    $( \".ui-button\" ).hover(\n",
       "        function() { $(this).addClass(\"ui-state-hover\");},\n",
       "        function() { $(this).removeClass(\"ui-state-hover\");}\n",
       "    );\n",
       "\n",
       "    var status_bar = $('<span class=\"mpl-message\"/>');\n",
       "    nav_element.append(status_bar);\n",
       "    this.message = status_bar[0];\n",
       "}\n",
       "\n",
       "mpl.figure.prototype.request_resize = function(x_pixels, y_pixels) {\n",
       "    // Request matplotlib to resize the figure. Matplotlib will then trigger a resize in the client,\n",
       "    // which will in turn request a refresh of the image.\n",
       "    this.send_message('resize', {'width': x_pixels, 'height': y_pixels});\n",
       "}\n",
       "\n",
       "mpl.figure.prototype.send_message = function(type, properties) {\n",
       "    properties['type'] = type;\n",
       "    properties['figure_id'] = this.id;\n",
       "    this.ws.send(JSON.stringify(properties));\n",
       "}\n",
       "\n",
       "mpl.figure.prototype.send_draw_message = function() {\n",
       "    if (!this.waiting) {\n",
       "        this.waiting = true;\n",
       "        this.ws.send(JSON.stringify({type: \"draw\", figure_id: this.id}));\n",
       "    }\n",
       "}\n",
       "\n",
       "\n",
       "mpl.figure.prototype.handle_save = function(fig, msg) {\n",
       "    var format_dropdown = fig.format_dropdown;\n",
       "    var format = format_dropdown.options[format_dropdown.selectedIndex].value;\n",
       "    fig.ondownload(fig, format);\n",
       "}\n",
       "\n",
       "\n",
       "mpl.figure.prototype.handle_resize = function(fig, msg) {\n",
       "    var size = msg['size'];\n",
       "    if (size[0] != fig.canvas.width || size[1] != fig.canvas.height) {\n",
       "        fig._resize_canvas(size[0], size[1]);\n",
       "        fig.send_message(\"refresh\", {});\n",
       "    };\n",
       "}\n",
       "\n",
       "mpl.figure.prototype.handle_rubberband = function(fig, msg) {\n",
       "    var x0 = msg['x0'] / mpl.ratio;\n",
       "    var y0 = (fig.canvas.height - msg['y0']) / mpl.ratio;\n",
       "    var x1 = msg['x1'] / mpl.ratio;\n",
       "    var y1 = (fig.canvas.height - msg['y1']) / mpl.ratio;\n",
       "    x0 = Math.floor(x0) + 0.5;\n",
       "    y0 = Math.floor(y0) + 0.5;\n",
       "    x1 = Math.floor(x1) + 0.5;\n",
       "    y1 = Math.floor(y1) + 0.5;\n",
       "    var min_x = Math.min(x0, x1);\n",
       "    var min_y = Math.min(y0, y1);\n",
       "    var width = Math.abs(x1 - x0);\n",
       "    var height = Math.abs(y1 - y0);\n",
       "\n",
       "    fig.rubberband_context.clearRect(\n",
       "        0, 0, fig.canvas.width, fig.canvas.height);\n",
       "\n",
       "    fig.rubberband_context.strokeRect(min_x, min_y, width, height);\n",
       "}\n",
       "\n",
       "mpl.figure.prototype.handle_figure_label = function(fig, msg) {\n",
       "    // Updates the figure title.\n",
       "    fig.header.textContent = msg['label'];\n",
       "}\n",
       "\n",
       "mpl.figure.prototype.handle_cursor = function(fig, msg) {\n",
       "    var cursor = msg['cursor'];\n",
       "    switch(cursor)\n",
       "    {\n",
       "    case 0:\n",
       "        cursor = 'pointer';\n",
       "        break;\n",
       "    case 1:\n",
       "        cursor = 'default';\n",
       "        break;\n",
       "    case 2:\n",
       "        cursor = 'crosshair';\n",
       "        break;\n",
       "    case 3:\n",
       "        cursor = 'move';\n",
       "        break;\n",
       "    }\n",
       "    fig.rubberband_canvas.style.cursor = cursor;\n",
       "}\n",
       "\n",
       "mpl.figure.prototype.handle_message = function(fig, msg) {\n",
       "    fig.message.textContent = msg['message'];\n",
       "}\n",
       "\n",
       "mpl.figure.prototype.handle_draw = function(fig, msg) {\n",
       "    // Request the server to send over a new figure.\n",
       "    fig.send_draw_message();\n",
       "}\n",
       "\n",
       "mpl.figure.prototype.handle_image_mode = function(fig, msg) {\n",
       "    fig.image_mode = msg['mode'];\n",
       "}\n",
       "\n",
       "mpl.figure.prototype.updated_canvas_event = function() {\n",
       "    // Called whenever the canvas gets updated.\n",
       "    this.send_message(\"ack\", {});\n",
       "}\n",
       "\n",
       "// A function to construct a web socket function for onmessage handling.\n",
       "// Called in the figure constructor.\n",
       "mpl.figure.prototype._make_on_message_function = function(fig) {\n",
       "    return function socket_on_message(evt) {\n",
       "        if (evt.data instanceof Blob) {\n",
       "            /* FIXME: We get \"Resource interpreted as Image but\n",
       "             * transferred with MIME type text/plain:\" errors on\n",
       "             * Chrome.  But how to set the MIME type?  It doesn't seem\n",
       "             * to be part of the websocket stream */\n",
       "            evt.data.type = \"image/png\";\n",
       "\n",
       "            /* Free the memory for the previous frames */\n",
       "            if (fig.imageObj.src) {\n",
       "                (window.URL || window.webkitURL).revokeObjectURL(\n",
       "                    fig.imageObj.src);\n",
       "            }\n",
       "\n",
       "            fig.imageObj.src = (window.URL || window.webkitURL).createObjectURL(\n",
       "                evt.data);\n",
       "            fig.updated_canvas_event();\n",
       "            fig.waiting = false;\n",
       "            return;\n",
       "        }\n",
       "        else if (typeof evt.data === 'string' && evt.data.slice(0, 21) == \"data:image/png;base64\") {\n",
       "            fig.imageObj.src = evt.data;\n",
       "            fig.updated_canvas_event();\n",
       "            fig.waiting = false;\n",
       "            return;\n",
       "        }\n",
       "\n",
       "        var msg = JSON.parse(evt.data);\n",
       "        var msg_type = msg['type'];\n",
       "\n",
       "        // Call the  \"handle_{type}\" callback, which takes\n",
       "        // the figure and JSON message as its only arguments.\n",
       "        try {\n",
       "            var callback = fig[\"handle_\" + msg_type];\n",
       "        } catch (e) {\n",
       "            console.log(\"No handler for the '\" + msg_type + \"' message type: \", msg);\n",
       "            return;\n",
       "        }\n",
       "\n",
       "        if (callback) {\n",
       "            try {\n",
       "                // console.log(\"Handling '\" + msg_type + \"' message: \", msg);\n",
       "                callback(fig, msg);\n",
       "            } catch (e) {\n",
       "                console.log(\"Exception inside the 'handler_\" + msg_type + \"' callback:\", e, e.stack, msg);\n",
       "            }\n",
       "        }\n",
       "    };\n",
       "}\n",
       "\n",
       "// from http://stackoverflow.com/questions/1114465/getting-mouse-location-in-canvas\n",
       "mpl.findpos = function(e) {\n",
       "    //this section is from http://www.quirksmode.org/js/events_properties.html\n",
       "    var targ;\n",
       "    if (!e)\n",
       "        e = window.event;\n",
       "    if (e.target)\n",
       "        targ = e.target;\n",
       "    else if (e.srcElement)\n",
       "        targ = e.srcElement;\n",
       "    if (targ.nodeType == 3) // defeat Safari bug\n",
       "        targ = targ.parentNode;\n",
       "\n",
       "    // jQuery normalizes the pageX and pageY\n",
       "    // pageX,Y are the mouse positions relative to the document\n",
       "    // offset() returns the position of the element relative to the document\n",
       "    var x = e.pageX - $(targ).offset().left;\n",
       "    var y = e.pageY - $(targ).offset().top;\n",
       "\n",
       "    return {\"x\": x, \"y\": y};\n",
       "};\n",
       "\n",
       "/*\n",
       " * return a copy of an object with only non-object keys\n",
       " * we need this to avoid circular references\n",
       " * http://stackoverflow.com/a/24161582/3208463\n",
       " */\n",
       "function simpleKeys (original) {\n",
       "  return Object.keys(original).reduce(function (obj, key) {\n",
       "    if (typeof original[key] !== 'object')\n",
       "        obj[key] = original[key]\n",
       "    return obj;\n",
       "  }, {});\n",
       "}\n",
       "\n",
       "mpl.figure.prototype.mouse_event = function(event, name) {\n",
       "    var canvas_pos = mpl.findpos(event)\n",
       "\n",
       "    if (name === 'button_press')\n",
       "    {\n",
       "        this.canvas.focus();\n",
       "        this.canvas_div.focus();\n",
       "    }\n",
       "\n",
       "    var x = canvas_pos.x * mpl.ratio;\n",
       "    var y = canvas_pos.y * mpl.ratio;\n",
       "\n",
       "    this.send_message(name, {x: x, y: y, button: event.button,\n",
       "                             step: event.step,\n",
       "                             guiEvent: simpleKeys(event)});\n",
       "\n",
       "    /* This prevents the web browser from automatically changing to\n",
       "     * the text insertion cursor when the button is pressed.  We want\n",
       "     * to control all of the cursor setting manually through the\n",
       "     * 'cursor' event from matplotlib */\n",
       "    event.preventDefault();\n",
       "    return false;\n",
       "}\n",
       "\n",
       "mpl.figure.prototype._key_event_extra = function(event, name) {\n",
       "    // Handle any extra behaviour associated with a key event\n",
       "}\n",
       "\n",
       "mpl.figure.prototype.key_event = function(event, name) {\n",
       "\n",
       "    // Prevent repeat events\n",
       "    if (name == 'key_press')\n",
       "    {\n",
       "        if (event.which === this._key)\n",
       "            return;\n",
       "        else\n",
       "            this._key = event.which;\n",
       "    }\n",
       "    if (name == 'key_release')\n",
       "        this._key = null;\n",
       "\n",
       "    var value = '';\n",
       "    if (event.ctrlKey && event.which != 17)\n",
       "        value += \"ctrl+\";\n",
       "    if (event.altKey && event.which != 18)\n",
       "        value += \"alt+\";\n",
       "    if (event.shiftKey && event.which != 16)\n",
       "        value += \"shift+\";\n",
       "\n",
       "    value += 'k';\n",
       "    value += event.which.toString();\n",
       "\n",
       "    this._key_event_extra(event, name);\n",
       "\n",
       "    this.send_message(name, {key: value,\n",
       "                             guiEvent: simpleKeys(event)});\n",
       "    return false;\n",
       "}\n",
       "\n",
       "mpl.figure.prototype.toolbar_button_onclick = function(name) {\n",
       "    if (name == 'download') {\n",
       "        this.handle_save(this, null);\n",
       "    } else {\n",
       "        this.send_message(\"toolbar_button\", {name: name});\n",
       "    }\n",
       "};\n",
       "\n",
       "mpl.figure.prototype.toolbar_button_onmouseover = function(tooltip) {\n",
       "    this.message.textContent = tooltip;\n",
       "};\n",
       "mpl.toolbar_items = [[\"Home\", \"Reset original view\", \"fa fa-home icon-home\", \"home\"], [\"Back\", \"Back to previous view\", \"fa fa-arrow-left icon-arrow-left\", \"back\"], [\"Forward\", \"Forward to next view\", \"fa fa-arrow-right icon-arrow-right\", \"forward\"], [\"\", \"\", \"\", \"\"], [\"Pan\", \"Pan axes with left mouse, zoom with right\", \"fa fa-arrows icon-move\", \"pan\"], [\"Zoom\", \"Zoom to rectangle\", \"fa fa-square-o icon-check-empty\", \"zoom\"], [\"\", \"\", \"\", \"\"], [\"Download\", \"Download plot\", \"fa fa-floppy-o icon-save\", \"download\"]];\n",
       "\n",
       "mpl.extensions = [\"eps\", \"pdf\", \"png\", \"ps\", \"raw\", \"svg\"];\n",
       "\n",
       "mpl.default_extension = \"png\";var comm_websocket_adapter = function(comm) {\n",
       "    // Create a \"websocket\"-like object which calls the given IPython comm\n",
       "    // object with the appropriate methods. Currently this is a non binary\n",
       "    // socket, so there is still some room for performance tuning.\n",
       "    var ws = {};\n",
       "\n",
       "    ws.close = function() {\n",
       "        comm.close()\n",
       "    };\n",
       "    ws.send = function(m) {\n",
       "        //console.log('sending', m);\n",
       "        comm.send(m);\n",
       "    };\n",
       "    // Register the callback with on_msg.\n",
       "    comm.on_msg(function(msg) {\n",
       "        //console.log('receiving', msg['content']['data'], msg);\n",
       "        // Pass the mpl event to the overridden (by mpl) onmessage function.\n",
       "        ws.onmessage(msg['content']['data'])\n",
       "    });\n",
       "    return ws;\n",
       "}\n",
       "\n",
       "mpl.mpl_figure_comm = function(comm, msg) {\n",
       "    // This is the function which gets called when the mpl process\n",
       "    // starts-up an IPython Comm through the \"matplotlib\" channel.\n",
       "\n",
       "    var id = msg.content.data.id;\n",
       "    // Get hold of the div created by the display call when the Comm\n",
       "    // socket was opened in Python.\n",
       "    var element = $(\"#\" + id);\n",
       "    var ws_proxy = comm_websocket_adapter(comm)\n",
       "\n",
       "    function ondownload(figure, format) {\n",
       "        window.open(figure.imageObj.src);\n",
       "    }\n",
       "\n",
       "    var fig = new mpl.figure(id, ws_proxy,\n",
       "                           ondownload,\n",
       "                           element.get(0));\n",
       "\n",
       "    // Call onopen now - mpl needs it, as it is assuming we've passed it a real\n",
       "    // web socket which is closed, not our websocket->open comm proxy.\n",
       "    ws_proxy.onopen();\n",
       "\n",
       "    fig.parent_element = element.get(0);\n",
       "    fig.cell_info = mpl.find_output_cell(\"<div id='\" + id + \"'></div>\");\n",
       "    if (!fig.cell_info) {\n",
       "        console.error(\"Failed to find cell for figure\", id, fig);\n",
       "        return;\n",
       "    }\n",
       "\n",
       "    var output_index = fig.cell_info[2]\n",
       "    var cell = fig.cell_info[0];\n",
       "\n",
       "};\n",
       "\n",
       "mpl.figure.prototype.handle_close = function(fig, msg) {\n",
       "    var width = fig.canvas.width/mpl.ratio\n",
       "    fig.root.unbind('remove')\n",
       "\n",
       "    // Update the output cell to use the data from the current canvas.\n",
       "    fig.push_to_output();\n",
       "    var dataURL = fig.canvas.toDataURL();\n",
       "    // Re-enable the keyboard manager in IPython - without this line, in FF,\n",
       "    // the notebook keyboard shortcuts fail.\n",
       "    IPython.keyboard_manager.enable()\n",
       "    $(fig.parent_element).html('<img src=\"' + dataURL + '\" width=\"' + width + '\">');\n",
       "    fig.close_ws(fig, msg);\n",
       "}\n",
       "\n",
       "mpl.figure.prototype.close_ws = function(fig, msg){\n",
       "    fig.send_message('closing', msg);\n",
       "    // fig.ws.close()\n",
       "}\n",
       "\n",
       "mpl.figure.prototype.push_to_output = function(remove_interactive) {\n",
       "    // Turn the data on the canvas into data in the output cell.\n",
       "    var width = this.canvas.width/mpl.ratio\n",
       "    var dataURL = this.canvas.toDataURL();\n",
       "    this.cell_info[1]['text/html'] = '<img src=\"' + dataURL + '\" width=\"' + width + '\">';\n",
       "}\n",
       "\n",
       "mpl.figure.prototype.updated_canvas_event = function() {\n",
       "    // Tell IPython that the notebook contents must change.\n",
       "    IPython.notebook.set_dirty(true);\n",
       "    this.send_message(\"ack\", {});\n",
       "    var fig = this;\n",
       "    // Wait a second, then push the new image to the DOM so\n",
       "    // that it is saved nicely (might be nice to debounce this).\n",
       "    setTimeout(function () { fig.push_to_output() }, 1000);\n",
       "}\n",
       "\n",
       "mpl.figure.prototype._init_toolbar = function() {\n",
       "    var fig = this;\n",
       "\n",
       "    var nav_element = $('<div/>')\n",
       "    nav_element.attr('style', 'width: 100%');\n",
       "    this.root.append(nav_element);\n",
       "\n",
       "    // Define a callback function for later on.\n",
       "    function toolbar_event(event) {\n",
       "        return fig.toolbar_button_onclick(event['data']);\n",
       "    }\n",
       "    function toolbar_mouse_event(event) {\n",
       "        return fig.toolbar_button_onmouseover(event['data']);\n",
       "    }\n",
       "\n",
       "    for(var toolbar_ind in mpl.toolbar_items){\n",
       "        var name = mpl.toolbar_items[toolbar_ind][0];\n",
       "        var tooltip = mpl.toolbar_items[toolbar_ind][1];\n",
       "        var image = mpl.toolbar_items[toolbar_ind][2];\n",
       "        var method_name = mpl.toolbar_items[toolbar_ind][3];\n",
       "\n",
       "        if (!name) { continue; };\n",
       "\n",
       "        var button = $('<button class=\"btn btn-default\" href=\"#\" title=\"' + name + '\"><i class=\"fa ' + image + ' fa-lg\"></i></button>');\n",
       "        button.click(method_name, toolbar_event);\n",
       "        button.mouseover(tooltip, toolbar_mouse_event);\n",
       "        nav_element.append(button);\n",
       "    }\n",
       "\n",
       "    // Add the status bar.\n",
       "    var status_bar = $('<span class=\"mpl-message\" style=\"text-align:right; float: right;\"/>');\n",
       "    nav_element.append(status_bar);\n",
       "    this.message = status_bar[0];\n",
       "\n",
       "    // Add the close button to the window.\n",
       "    var buttongrp = $('<div class=\"btn-group inline pull-right\"></div>');\n",
       "    var button = $('<button class=\"btn btn-mini btn-primary\" href=\"#\" title=\"Stop Interaction\"><i class=\"fa fa-power-off icon-remove icon-large\"></i></button>');\n",
       "    button.click(function (evt) { fig.handle_close(fig, {}); } );\n",
       "    button.mouseover('Stop Interaction', toolbar_mouse_event);\n",
       "    buttongrp.append(button);\n",
       "    var titlebar = this.root.find($('.ui-dialog-titlebar'));\n",
       "    titlebar.prepend(buttongrp);\n",
       "}\n",
       "\n",
       "mpl.figure.prototype._root_extra_style = function(el){\n",
       "    var fig = this\n",
       "    el.on(\"remove\", function(){\n",
       "\tfig.close_ws(fig, {});\n",
       "    });\n",
       "}\n",
       "\n",
       "mpl.figure.prototype._canvas_extra_style = function(el){\n",
       "    // this is important to make the div 'focusable\n",
       "    el.attr('tabindex', 0)\n",
       "    // reach out to IPython and tell the keyboard manager to turn it's self\n",
       "    // off when our div gets focus\n",
       "\n",
       "    // location in version 3\n",
       "    if (IPython.notebook.keyboard_manager) {\n",
       "        IPython.notebook.keyboard_manager.register_events(el);\n",
       "    }\n",
       "    else {\n",
       "        // location in version 2\n",
       "        IPython.keyboard_manager.register_events(el);\n",
       "    }\n",
       "\n",
       "}\n",
       "\n",
       "mpl.figure.prototype._key_event_extra = function(event, name) {\n",
       "    var manager = IPython.notebook.keyboard_manager;\n",
       "    if (!manager)\n",
       "        manager = IPython.keyboard_manager;\n",
       "\n",
       "    // Check for shift+enter\n",
       "    if (event.shiftKey && event.which == 13) {\n",
       "        this.canvas_div.blur();\n",
       "        event.shiftKey = false;\n",
       "        // Send a \"J\" for go to next cell\n",
       "        event.which = 74;\n",
       "        event.keyCode = 74;\n",
       "        manager.command_mode();\n",
       "        manager.handle_keydown(event);\n",
       "    }\n",
       "}\n",
       "\n",
       "mpl.figure.prototype.handle_save = function(fig, msg) {\n",
       "    fig.ondownload(fig, null);\n",
       "}\n",
       "\n",
       "\n",
       "mpl.find_output_cell = function(html_output) {\n",
       "    // Return the cell and output element which can be found *uniquely* in the notebook.\n",
       "    // Note - this is a bit hacky, but it is done because the \"notebook_saving.Notebook\"\n",
       "    // IPython event is triggered only after the cells have been serialised, which for\n",
       "    // our purposes (turning an active figure into a static one), is too late.\n",
       "    var cells = IPython.notebook.get_cells();\n",
       "    var ncells = cells.length;\n",
       "    for (var i=0; i<ncells; i++) {\n",
       "        var cell = cells[i];\n",
       "        if (cell.cell_type === 'code'){\n",
       "            for (var j=0; j<cell.output_area.outputs.length; j++) {\n",
       "                var data = cell.output_area.outputs[j];\n",
       "                if (data.data) {\n",
       "                    // IPython >= 3 moved mimebundle to data attribute of output\n",
       "                    data = data.data;\n",
       "                }\n",
       "                if (data['text/html'] == html_output) {\n",
       "                    return [cell, data, j];\n",
       "                }\n",
       "            }\n",
       "        }\n",
       "    }\n",
       "}\n",
       "\n",
       "// Register the function which deals with the matplotlib target/channel.\n",
       "// The kernel may be null if the page has been refreshed.\n",
       "if (IPython.notebook.kernel != null) {\n",
       "    IPython.notebook.kernel.comm_manager.register_target('matplotlib', mpl.mpl_figure_comm);\n",
       "}\n"
      ],
      "text/plain": [
       "<IPython.core.display.Javascript object>"
      ]
     },
     "metadata": {},
     "output_type": "display_data"
    },
    {
     "data": {
      "text/html": [
       "<img src=\"data:image/png;base64,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\" width=\"1000\">"
      ],
      "text/plain": [
       "<IPython.core.display.HTML object>"
      ]
     },
     "metadata": {},
     "output_type": "display_data"
    }
   ],
   "source": [
    "plotResults3D(prideDF, prideNounLabels)"
   ]
  },
  {
   "cell_type": "code",
   "execution_count": 37,
   "metadata": {},
   "outputs": [],
   "source": [
    "# Redo this function with only nouns from Pride and Prejudice\n",
    "def mostSimilar(vec):\n",
    "    highestSimilarities = [0]\n",
    "    highestWords = [\"\"]\n",
    "    for w in prideNouns:\n",
    "        sim = similarity(vec, w.vector)\n",
    "        if sim > highestSimilarities[-1]:\n",
    "            highestSimilarities.append(sim)\n",
    "            highestWords.append(w.text.lower())\n",
    "    return list(zip(highestWords, highestSimilarities))[-10:]"
   ]
  },
  {
   "cell_type": "code",
   "execution_count": 38,
   "metadata": {},
   "outputs": [
    {
     "data": {
      "text/plain": [
       "[('', 0), ('truth', 0.3113211), ('man', 0.5086593), ('wife', 1.0)]"
      ]
     },
     "execution_count": 38,
     "metadata": {},
     "output_type": "execute_result"
    }
   ],
   "source": [
    "mostSimilar(nlp('wife').vector)"
   ]
  },
  {
   "cell_type": "markdown",
   "metadata": {},
   "source": [
    "# Senses"
   ]
  },
  {
   "cell_type": "code",
   "execution_count": 24,
   "metadata": {},
   "outputs": [],
   "source": [
    "senseDocs = [nlp(w) for w in ['sound', 'sight', 'touch', 'smell']]\n",
    "def whichSense(word):\n",
    "    doc = nlp(word)\n",
    "    return {sense: doc.similarity(sense) for sense in senseDocs}\n"
   ]
  },
  {
   "cell_type": "code",
   "execution_count": 25,
   "metadata": {},
   "outputs": [
    {
     "data": {
      "text/plain": [
       "{sound: 0.37716483832358116,\n",
       " sight: 0.20594014841156277,\n",
       " touch: 0.19551651130481998,\n",
       " smell: 0.19852637065751555}"
      ]
     },
     "execution_count": 25,
     "metadata": {},
     "output_type": "execute_result"
    }
   ],
   "source": [
    "whichSense('symphony')"
   ]
  },
  {
   "cell_type": "code",
   "execution_count": 35,
   "metadata": {},
   "outputs": [],
   "source": [
    "%matplotlib inline\n",
    "plt.rcParams[\"figure.figsize\"] = (14,8)"
   ]
  },
  {
   "cell_type": "code",
   "execution_count": 36,
   "metadata": {},
   "outputs": [
    {
     "data": {
      "text/plain": [
       "<matplotlib.axes._subplots.AxesSubplot at 0x7febf6f34cc0>"
      ]
     },
     "execution_count": 36,
     "metadata": {},
     "output_type": "execute_result"
    },
    {
     "data": {
      "image/png": "[encoded data removed]",
      "text/plain": [
       "<Figure size 1008x576 with 1 Axes>"
      ]
     },
     "metadata": {
      "needs_background": "light"
     },
     "output_type": "display_data"
    }
   ],
   "source": [
    "testWords = 'symphony itchy flower crash'.split()\n",
    "pd.DataFrame([whichSense(w) for w in testWords], index=testWords).plot(kind='bar')"
   ]
  },
  {
   "cell_type": "markdown",
   "metadata": {},
   "source": [
    "# The Inaugural Address Corpus"
   ]
  },
  {
   "cell_type": "code",
   "execution_count": 29,
   "metadata": {},
   "outputs": [],
   "source": [
    "inauguralFilenames = sorted(glob('inaugural/*'))\n",
    "inauguralLabels = [fn[10:-4] for fn in inauguralFilenames]\n",
    "inauguralDates = [int(label[:4]) for label in inauguralLabels]\n",
    "parties = 'rrrbbrrrbbbbbrrbbrrbrrrbbrrbr' # I did this manually. There are probably errors.\n",
    "inauguralRaw = [open(f, errors=\"ignore\").read() for f in inauguralFilenames]"
   ]
  },
  {
   "cell_type": "code",
   "execution_count": 30,
   "metadata": {},
   "outputs": [
    {
     "name": "stdout",
     "output_type": "stream",
     "text": [
      "1901-McKinley 1901 My fellow-citizens, when we as\n",
      "1905-Roosevelt 1905 My fellow citizens, no people \n",
      "1909-Taft 1909 My fellow citizens: Anyone who\n",
      "1913-Wilson 1913 There has been a change of gov\n"
     ]
    }
   ],
   "source": [
    "# Sanity check: peek\n",
    "for i in range(4): \n",
    "    print(inauguralLabels[i][:30], inauguralDates[i], inauguralRaw[i][:30])"
   ]
  },
  {
   "cell_type": "code",
   "execution_count": 31,
   "metadata": {},
   "outputs": [],
   "source": [
    "inauguralDocs = [nlp(text) for text in inauguralRaw]"
   ]
  },
  {
   "cell_type": "code",
   "execution_count": 48,
   "metadata": {},
   "outputs": [],
   "source": [
    "inauguralVecs = [doc.vector for doc in inauguralDocs]"
   ]
  },
  {
   "cell_type": "code",
   "execution_count": 49,
   "metadata": {},
   "outputs": [],
   "source": [
    "# Compute a similarity matrix.\n",
    "# Check the similarity of everything against everything else. \n",
    "# Note: this is not very efficient. \n",
    "similarities = []\n",
    "for vec in inauguralDocs: \n",
    "    thisSimilarities = [vec.similarity(other) for other in inauguralDocs]\n",
    "    similarities.append(thisSimilarities)"
   ]
  },
  {
   "cell_type": "code",
   "execution_count": 50,
   "metadata": {},
   "outputs": [],
   "source": [
    "df = pd.DataFrame(similarities, columns=inauguralLabels, index=inauguralLabels)"
   ]
  },
  {
   "cell_type": "code",
   "execution_count": 51,
   "metadata": {},
   "outputs": [
    {
     "data": {
      "text/plain": [
       "1901-McKinley        1925-Coolidge\n",
       "1905-Roosevelt         1913-Wilson\n",
       "1909-Taft            1901-McKinley\n",
       "1913-Wilson         1905-Roosevelt\n",
       "1917-Wilson         1905-Roosevelt\n",
       "1921-Harding       1953-Eisenhower\n",
       "1925-Coolidge       1933-Roosevelt\n",
       "1929-Hoover          1901-McKinley\n",
       "1933-Roosevelt       1925-Coolidge\n",
       "1937-Roosevelt      1933-Roosevelt\n",
       "1941-Roosevelt      1937-Roosevelt\n",
       "1945-Roosevelt        1965-Johnson\n",
       "1949-Truman           1921-Harding\n",
       "1953-Eisenhower    1957-Eisenhower\n",
       "1957-Eisenhower    1953-Eisenhower\n",
       "1961-Kennedy            2009-Obama\n",
       "1965-Johnson            1969-Nixon\n",
       "1969-Nixon            1965-Johnson\n",
       "1973-Nixon             1981-Reagan\n",
       "1977-Carter             2009-Obama\n",
       "1981-Reagan            1985-Reagan\n",
       "1985-Reagan            1981-Reagan\n",
       "1989-Bush             1965-Johnson\n",
       "1993-Clinton            2017-Trump\n",
       "1997-Clinton           1985-Reagan\n",
       "2001-Bush              1981-Reagan\n",
       "2005-Bush          1953-Eisenhower\n",
       "2009-Obama             1981-Reagan\n",
       "2017-Trump            1993-Clinton\n",
       "dtype: object"
      ]
     },
     "execution_count": 51,
     "metadata": {},
     "output_type": "execute_result"
    }
   ],
   "source": [
    "df[df < 1].idxmax()"
   ]
  },
  {
   "cell_type": "code",
   "execution_count": 52,
   "metadata": {},
   "outputs": [],
   "source": [
    "embedded = PCA(n_components=2).fit_transform(inauguralVecs)"
   ]
  },
  {
   "cell_type": "code",
   "execution_count": 55,
   "metadata": {},
   "outputs": [
    {
     "data": {
      "image/png": "[encoded data removed]",
      "text/plain": [
       "<Figure size 864x864 with 1 Axes>"
      ]
     },
     "metadata": {
      "needs_background": "light"
     },
     "output_type": "display_data"
    }
   ],
   "source": [
    "xs, ys = embedded[:,0], embedded[:,1]\n",
    "for i in range(len(xs)): \n",
    "    plt.scatter(xs[i], ys[i], c=parties[i], s=inauguralDates[i]-1900)\n",
    "    plt.annotate(inauguralLabels[i], (xs[i], ys[i]))"
   ]
  },
  {
   "cell_type": "markdown",
   "metadata": {},
   "source": [
    "# Detective Novels"
   ]
  },
  {
   "cell_type": "code",
   "execution_count": 68,
   "metadata": {},
   "outputs": [],
   "source": [
    "detectiveJSON = open('detectives.json')\n",
    "detectivesData = json.load(detectiveJSON)\n",
    "detectivesData = detectivesData[1:] # Chop of #1, which is actually a duplicate"
   ]
  },
  {
   "cell_type": "code",
   "execution_count": 69,
   "metadata": {},
   "outputs": [],
   "source": [
    "detectiveTexts = [book['text'] for book in detectivesData]"
   ]
  },
  {
   "cell_type": "code",
   "execution_count": 70,
   "metadata": {},
   "outputs": [
    {
     "data": {
      "text/plain": [
       "[351240, 415961, 440629, 611531, 399572, 242949, 648486, 350142, 288955]"
      ]
     },
     "execution_count": 70,
     "metadata": {},
     "output_type": "execute_result"
    }
   ],
   "source": [
    "detectiveLengths = [len(text) for text in detectiveTexts] # How long are they? We might want to cut them down\n",
    "detectiveLengths"
   ]
  },
  {
   "cell_type": "code",
   "execution_count": 71,
   "metadata": {},
   "outputs": [],
   "source": [
    "detectiveTextsTruncated = [t[:min(detectiveLengths)] for t in detectiveTexts]"
   ]
  },
  {
   "cell_type": "code",
   "execution_count": 72,
   "metadata": {},
   "outputs": [],
   "source": [
    "detectiveDocs = [nlp(book) for book in detectiveTextsTruncated] # This should take a while"
   ]
  },
  {
   "cell_type": "code",
   "execution_count": 73,
   "metadata": {},
   "outputs": [],
   "source": [
    "extraWords = \"gun knife snake diamond\".split()\n",
    "extraDocs = [nlp(word) for word in extraWords]\n",
    "extraVecs = [doc.vector for doc in extraDocs]"
   ]
  },
  {
   "cell_type": "code",
   "execution_count": 74,
   "metadata": {},
   "outputs": [],
   "source": [
    "detectiveVecs = [doc.vector for doc in detectiveDocs]\n",
    "detectiveLabels = [doc['author'].split(',')[0] +  '-' + doc['title'][:20] for doc in detectivesData]"
   ]
  },
  {
   "cell_type": "code",
   "execution_count": 75,
   "metadata": {},
   "outputs": [
    {
     "data": {
      "text/plain": [
       "['Collins-The Haunted Hotel: A',\n",
       " 'Rohmer-The Insidious Dr. Fu',\n",
       " 'Chesterton-The Innocence of Fat',\n",
       " 'Doyle-The Return of Sherlo',\n",
       " 'Chesterton-The Wisdom of Father',\n",
       " 'Doyle-A Study in Scarlet',\n",
       " \"Gaboriau-The Count's Millions\",\n",
       " \"Rinehart-Where There's a Will\",\n",
       " \"Michelson-In the Bishop's Carr\"]"
      ]
     },
     "execution_count": 75,
     "metadata": {},
     "output_type": "execute_result"
    }
   ],
   "source": [
    "detectiveLabels"
   ]
  },
  {
   "cell_type": "code",
   "execution_count": 72,
   "metadata": {},
   "outputs": [
    {
     "ename": "NameError",
     "evalue": "name 'detectiveVecs' is not defined",
     "output_type": "error",
     "traceback": [
      "\u001b[0;31m---------------------------------------------------------------------------\u001b[0m",
      "\u001b[0;31mNameError\u001b[0m                                 Traceback (most recent call last)",
      "\u001b[0;32m<ipython-input-72-e7c6c43ef32b>\u001b[0m in \u001b[0;36m<module>\u001b[0;34m\u001b[0m\n\u001b[0;32m----> 1\u001b[0;31m \u001b[0mpcaOut\u001b[0m \u001b[0;34m=\u001b[0m \u001b[0mPCA\u001b[0m\u001b[0;34m(\u001b[0m\u001b[0mn_components\u001b[0m\u001b[0;34m=\u001b[0m\u001b[0;36m10\u001b[0m\u001b[0;34m)\u001b[0m\u001b[0;34m.\u001b[0m\u001b[0mfit_transform\u001b[0m\u001b[0;34m(\u001b[0m\u001b[0mdetectiveVecs\u001b[0m \u001b[0;34m+\u001b[0m \u001b[0mextraVecs\u001b[0m\u001b[0;34m)\u001b[0m\u001b[0;34m\u001b[0m\u001b[0;34m\u001b[0m\u001b[0m\n\u001b[0m\u001b[1;32m      2\u001b[0m \u001b[0mtsneOut\u001b[0m \u001b[0;34m=\u001b[0m \u001b[0mTSNE\u001b[0m\u001b[0;34m(\u001b[0m\u001b[0mn_components\u001b[0m\u001b[0;34m=\u001b[0m\u001b[0;36m2\u001b[0m\u001b[0;34m)\u001b[0m\u001b[0;34m.\u001b[0m\u001b[0mfit_transform\u001b[0m\u001b[0;34m(\u001b[0m\u001b[0mpcaOut\u001b[0m\u001b[0;34m)\u001b[0m\u001b[0;34m\u001b[0m\u001b[0;34m\u001b[0m\u001b[0m\n",
      "\u001b[0;31mNameError\u001b[0m: name 'detectiveVecs' is not defined"
     ]
    }
   ],
   "source": [
    "pcaOut = PCA(n_components=10).fit_transform(detectiveVecs + extraVecs)\n",
    "tsneOut = TSNE(n_components=2).fit_transform(pcaOut)"
   ]
  },
  {
   "cell_type": "code",
   "execution_count": 73,
   "metadata": {
    "scrolled": false
   },
   "outputs": [
    {
     "ename": "NameError",
     "evalue": "name 'tsneOut' is not defined",
     "output_type": "error",
     "traceback": [
      "\u001b[0;31m---------------------------------------------------------------------------\u001b[0m",
      "\u001b[0;31mNameError\u001b[0m                                 Traceback (most recent call last)",
      "\u001b[0;32m<ipython-input-73-50d7a12df94b>\u001b[0m in \u001b[0;36m<module>\u001b[0;34m\u001b[0m\n\u001b[0;32m----> 1\u001b[0;31m \u001b[0mxs\u001b[0m\u001b[0;34m,\u001b[0m \u001b[0mys\u001b[0m \u001b[0;34m=\u001b[0m \u001b[0mtsneOut\u001b[0m\u001b[0;34m[\u001b[0m\u001b[0;34m:\u001b[0m\u001b[0;34m,\u001b[0m\u001b[0;36m0\u001b[0m\u001b[0;34m]\u001b[0m\u001b[0;34m,\u001b[0m \u001b[0mtsneOut\u001b[0m\u001b[0;34m[\u001b[0m\u001b[0;34m:\u001b[0m\u001b[0;34m,\u001b[0m\u001b[0;36m1\u001b[0m\u001b[0;34m]\u001b[0m\u001b[0;34m\u001b[0m\u001b[0;34m\u001b[0m\u001b[0m\n\u001b[0m\u001b[1;32m      2\u001b[0m \u001b[0;32mfor\u001b[0m \u001b[0mi\u001b[0m \u001b[0;32min\u001b[0m \u001b[0mrange\u001b[0m\u001b[0;34m(\u001b[0m\u001b[0mlen\u001b[0m\u001b[0;34m(\u001b[0m\u001b[0mxs\u001b[0m\u001b[0;34m)\u001b[0m\u001b[0;34m)\u001b[0m\u001b[0;34m:\u001b[0m\u001b[0;34m\u001b[0m\u001b[0;34m\u001b[0m\u001b[0m\n\u001b[1;32m      3\u001b[0m     \u001b[0mplt\u001b[0m\u001b[0;34m.\u001b[0m\u001b[0mscatter\u001b[0m\u001b[0;34m(\u001b[0m\u001b[0mxs\u001b[0m\u001b[0;34m[\u001b[0m\u001b[0mi\u001b[0m\u001b[0;34m]\u001b[0m\u001b[0;34m,\u001b[0m \u001b[0mys\u001b[0m\u001b[0;34m[\u001b[0m\u001b[0mi\u001b[0m\u001b[0;34m]\u001b[0m\u001b[0;34m)\u001b[0m\u001b[0;34m\u001b[0m\u001b[0;34m\u001b[0m\u001b[0m\n\u001b[1;32m      4\u001b[0m     \u001b[0mplt\u001b[0m\u001b[0;34m.\u001b[0m\u001b[0mannotate\u001b[0m\u001b[0;34m(\u001b[0m\u001b[0;34m(\u001b[0m\u001b[0mdetectiveLabels\u001b[0m \u001b[0;34m+\u001b[0m \u001b[0mextraWords\u001b[0m\u001b[0;34m)\u001b[0m\u001b[0;34m[\u001b[0m\u001b[0mi\u001b[0m\u001b[0;34m]\u001b[0m\u001b[0;34m,\u001b[0m \u001b[0;34m(\u001b[0m\u001b[0mxs\u001b[0m\u001b[0;34m[\u001b[0m\u001b[0mi\u001b[0m\u001b[0;34m]\u001b[0m\u001b[0;34m,\u001b[0m \u001b[0mys\u001b[0m\u001b[0;34m[\u001b[0m\u001b[0mi\u001b[0m\u001b[0;34m]\u001b[0m\u001b[0;34m)\u001b[0m\u001b[0;34m)\u001b[0m\u001b[0;34m\u001b[0m\u001b[0;34m\u001b[0m\u001b[0m\n",
      "\u001b[0;31mNameError\u001b[0m: name 'tsneOut' is not defined"
     ]
    }
   ],
   "source": [
    "xs, ys = tsneOut[:,0], tsneOut[:,1]\n",
    "for i in range(len(xs)): \n",
    "    plt.scatter(xs[i], ys[i])\n",
    "    plt.annotate((detectiveLabels + extraWords)[i], (xs[i], ys[i]))"
   ]
  },
  {
   "cell_type": "code",
   "execution_count": 78,
   "metadata": {},
   "outputs": [],
   "source": [
    "# Sanity check\n",
    "counts = {label: {w: 0 for w in extraWords} for label in detectiveLabels}\n",
    "for i, doc in enumerate(detectiveDocs):\n",
    "    for w in doc: \n",
    "        if w.lemma_ in extraWords: \n",
    "            counts[detectiveLabels[i]][w.lemma_] += 1"
   ]
  },
  {
   "cell_type": "code",
   "execution_count": 79,
   "metadata": {},
   "outputs": [
    {
     "data": {
      "text/plain": [
       "<matplotlib.axes._subplots.AxesSubplot at 0x7fbd3667af60>"
      ]
     },
     "execution_count": 79,
     "metadata": {},
     "output_type": "execute_result"
    },
    {
     "data": {
      "image/png": "[encoded data removed]",
      "text/plain": [
       "<Figure size 864x864 with 1 Axes>"
      ]
     },
     "metadata": {
      "needs_background": "light"
     },
     "output_type": "display_data"
    }
   ],
   "source": [
    "pd.DataFrame(counts).T.plot(kind='bar')"
   ]
  },
  {
   "cell_type": "markdown",
   "metadata": {},
   "source": [
    "# Train Your Own"
   ]
  },
  {
   "cell_type": "code",
   "execution_count": 3,
   "metadata": {},
   "outputs": [],
   "source": [
    "# Requires Gensim. See commented-out imports above.\n",
    "model = Word2Vec(common_texts, size=100, window=5, min_count=1, workers=4)"
   ]
  },
  {
   "cell_type": "code",
   "execution_count": 4,
   "metadata": {},
   "outputs": [],
   "source": [
    "word_vectors = model.wv"
   ]
  },
  {
   "cell_type": "code",
   "execution_count": 17,
   "metadata": {},
   "outputs": [
    {
     "data": {
      "text/plain": [
       "['accuracy',\n",
       " 'add',\n",
       " 'closer_than',\n",
       " 'cosine_similarities',\n",
       " 'distance',\n",
       " 'distances',\n",
       " 'doesnt_match',\n",
       " 'evaluate_word_analogies',\n",
       " 'evaluate_word_pairs',\n",
       " 'get_keras_embedding',\n",
       " 'get_vector',\n",
       " 'index2entity',\n",
       " 'index2word',\n",
       " 'init_sims',\n",
       " 'load',\n",
       " 'load_word2vec_format',\n",
       " 'log_accuracy',\n",
       " 'log_evaluate_word_pairs',\n",
       " 'most_similar',\n",
       " 'most_similar_cosmul',\n",
       " 'most_similar_to_given',\n",
       " 'n_similarity',\n",
       " 'rank',\n",
       " 'save',\n",
       " 'save_word2vec_format',\n",
       " 'similar_by_vector',\n",
       " 'similar_by_word',\n",
       " 'similarity',\n",
       " 'similarity_matrix',\n",
       " 'syn0',\n",
       " 'syn0norm',\n",
       " 'vector_size',\n",
       " 'vectors',\n",
       " 'vectors_norm',\n",
       " 'vocab',\n",
       " 'wmdistance',\n",
       " 'word_vec',\n",
       " 'words_closer_than',\n",
       " 'wv']"
      ]
     },
     "execution_count": 17,
     "metadata": {},
     "output_type": "execute_result"
    }
   ],
   "source": [
    "[w for w in dir(word_vectors) if not w.startswith('_')]"
   ]
  },
  {
   "cell_type": "code",
   "execution_count": null,
   "metadata": {},
   "outputs": [],
   "source": []
  }
 ],
 "metadata": {
  "kernelspec": {
   "display_name": "Python 3",
   "language": "python",
   "name": "python3"
  },
  "language_info": {
   "codemirror_mode": {
    "name": "ipython",
    "version": 3
   },
   "file_extension": ".py",
   "mimetype": "text/x-python",
   "name": "python",
   "nbconvert_exporter": "python",
   "pygments_lexer": "ipython3",
   "version": "3.7.2"
  }
 },
 "nbformat": 4,
 "nbformat_minor": 2
}
